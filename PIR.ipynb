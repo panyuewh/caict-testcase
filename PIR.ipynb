{
 "cells": [
  {
   "cell_type": "code",
   "execution_count": null,
   "id": "4286a9d7",
   "metadata": {},
   "outputs": [],
   "source": [
    "# 隐匿查询\n",
    "#\n",
    "# 配置描述     |基础运算            |联合统计       |隐匿查询          |安全求交        |特征工程           |联合建模   |联合预测 \n",
    "# 数据方       |两方, 三方          |两方          |两方              |两方            |两方              |两方       |两方 \n",
    "# 算法类型     |加法, 乘法, 比较    |方差, 中位数   |高效率, 高隐匿性   |平衡, 非平衡    |WOE和IV计算        |LR        |LR\n",
    "# 测试数据集   |数据集α             |数据集α       |数据集β            |数据集γ        |epsilon           |epsilon    |epsilon\n",
    "\n",
    "import os\n",
    "path = './ds'\n",
    "assert os.path.exists(path)"
   ]
  },
  {
   "cell_type": "code",
   "execution_count": null,
   "id": "f29aedc5",
   "metadata": {},
   "outputs": [],
   "source": [
    "%%time\n",
    "\n",
    "import pyarrow as pa \n",
    "import pyarrow.dataset as ds\n",
    "import pyarrow.compute as pc\n",
    "\n",
    "beta_ds = ds.dataset(f'{path}/ds_beta/')\n",
    "proj = {col:ds.field(col) for col in beta_ds.schema.names}\n",
    "# proj.update({'ID': ds.field('ID').cast(pa.string())})\n",
    "beta = beta_ds.to_table(columns=proj)\n",
    "# beta = beta.sort_by('ID')"
   ]
  },
  {
   "cell_type": "code",
   "execution_count": null,
   "id": "f8611695",
   "metadata": {},
   "outputs": [],
   "source": [
    "%%time\n",
    "\n",
    "query_ds = ds.dataset(f'{path}/ds_beta_query/')\n",
    "proj = {col:ds.field(col) for col in query_ds.schema.names}\n",
    "# proj.update({'ID': ds.field('ID').cast(pa.string())})\n",
    "query = query_ds.to_table(columns=proj)"
   ]
  },
  {
   "cell_type": "code",
   "execution_count": null,
   "id": "5dba66b2",
   "metadata": {},
   "outputs": [],
   "source": [
    "%%time\n",
    "\n",
    "idx = pc.index_in(query['ID'], value_set=beta['ID'])\n",
    "result = beta.take(idx)"
   ]
  },
  {
   "cell_type": "code",
   "execution_count": null,
   "id": "45628923",
   "metadata": {},
   "outputs": [],
   "source": []
  },
  {
   "cell_type": "code",
   "execution_count": null,
   "id": "1455e59d",
   "metadata": {},
   "outputs": [],
   "source": [
    "%%time\n",
    "\n",
    "import modin.config as cfg\n",
    "cfg.Engine.put(\"Ray\")\n",
    "cfg.CpuCount.put(\"4\")\n",
    "#cfg.StorageFormat.put('Pyarrow')   # read_parquet doesn't support PyarrowOnRay yet\n",
    "cfg.StorageFormat.put('Pandas')\n",
    "\n",
    "# or by setting the environment variable\n",
    "# import os\n",
    "# os.environ[\"MODIN_ENGINE\"] = \"ray\"\n",
    "# os.environ[\"MODIN_STORAGE_FORMAT\"] = \"Pyarrow\"\n",
    "\n",
    "# import pandas # Pandas couldn't fit our large dataset into memory\n",
    "import modin.pandas as pd\n",
    "#import modin.experimental.pandas as pd\n",
    "import pyarrow as pa \n",
    "import pyarrow.parquet as pq\n",
    "import numpy as np\n",
    "\n",
    "import ray\n",
    "ray.init(runtime_env={'env_vars': {'__MODIN_AUTOIMPORT_PANDAS__': '1'}})\n",
    "\n",
    "df = pd.read_parquet(f'{path}/ds_beta/')\n",
    "df = df.reindex(['ID'])\n",
    "df.sort_index(inplace=True)\n",
    "df_query = pd.read_parquet(f'{path}/ds_beta_query/')\n",
    "df_rs = df[df_query['ID']]"
   ]
  },
  {
   "cell_type": "code",
   "execution_count": null,
   "id": "c153b336",
   "metadata": {},
   "outputs": [],
   "source": []
  }
 ],
 "metadata": {
  "kernelspec": {
   "display_name": "Python 3.8.10 ('pyenv': venv)",
   "language": "python",
   "name": "python3"
  },
  "language_info": {
   "codemirror_mode": {
    "name": "ipython",
    "version": 3
   },
   "file_extension": ".py",
   "mimetype": "text/x-python",
   "name": "python",
   "nbconvert_exporter": "python",
   "pygments_lexer": "ipython3",
   "version": "3.8.10"
  },
  "vscode": {
   "interpreter": {
    "hash": "2cac66f9c3a3e478db6b53d819924530ad4b772b6b649f43a52775cb3a625d7c"
   }
  }
 },
 "nbformat": 4,
 "nbformat_minor": 5
}
