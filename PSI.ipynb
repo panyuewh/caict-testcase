{
 "cells": [
  {
   "cell_type": "code",
   "execution_count": null,
   "metadata": {},
   "outputs": [],
   "source": [
    "\n",
    "# 安全求交\n",
    "#\n",
    "# 配置描述     |基础运算            |联合统计       |隐匿查询          |安全求交        |特征工程           |联合建模   |联合预测 \n",
    "# 数据方       |两方, 三方          |两方          |两方              |两方            |两方              |两方       |两方 \n",
    "# 算法类型     |加法, 乘法, 比较    |方差, 中位数   |高效率, 高隐匿性   |平衡, 非平衡    |WOE和IV计算        |LR        |LR\n",
    "# 测试数据集   |数据集α             |数据集α       |数据集β            |数据集γ        |epsilon           |epsilon    |epsilon\n",
    "\n",
    "import os\n",
    "path = './ds'\n",
    "assert os.path.exists(path)"
   ]
  },
  {
   "cell_type": "code",
   "execution_count": null,
   "metadata": {},
   "outputs": [],
   "source": [
    "%%time \n",
    "\n",
    "import pyarrow as pa \n",
    "import pyarrow.dataset as ds\n",
    "import pyarrow.compute as pc\n",
    "\n",
    "gamma = ds.dataset(f'{path}/ds_gamma/').to_table()\n",
    "# gamma = gamma.sort_by('ID')"
   ]
  },
  {
   "cell_type": "code",
   "execution_count": null,
   "metadata": {},
   "outputs": [],
   "source": [
    "%%time\n",
    "\n",
    "query_b = ds.dataset(f'{path}/ds_gamma_query_b/').to_table()\n",
    "# query_b = query_b.sort_by('ID')\n",
    "result_b = pc.is_in(query_b['ID'], value_set=gamma['ID'])"
   ]
  },
  {
   "cell_type": "code",
   "execution_count": null,
   "metadata": {},
   "outputs": [],
   "source": [
    "%%time\n",
    "\n",
    "query_a = ds.dataset(f'{path}/ds_gamma_query_a/').to_table()\n",
    "# query_a = query_a.sort_by('ID')"
   ]
  },
  {
   "cell_type": "code",
   "execution_count": null,
   "metadata": {},
   "outputs": [],
   "source": [
    "%%time\n",
    "\n",
    "result_a = pc.is_in(query_a['ID'], value_set=gamma['ID'])"
   ]
  },
  {
   "cell_type": "code",
   "execution_count": null,
   "metadata": {},
   "outputs": [],
   "source": [
    "print(\"len: gamma={}, query_a={}, result_a={}, query_b={}, result_b={}\".\n",
    "    format(len(gamma), len(query_a), len(query_a.filter(result_a)), len(query_b), len(query_b.filter(result_b))))"
   ]
  },
  {
   "cell_type": "code",
   "execution_count": null,
   "metadata": {},
   "outputs": [],
   "source": []
  }
 ],
 "metadata": {
  "kernelspec": {
   "display_name": "Python 3.8.10 ('pyenv': venv)",
   "language": "python",
   "name": "python3"
  },
  "language_info": {
   "codemirror_mode": {
    "name": "ipython",
    "version": 3
   },
   "file_extension": ".py",
   "mimetype": "text/x-python",
   "name": "python",
   "nbconvert_exporter": "python",
   "pygments_lexer": "ipython3",
   "version": "3.8.10"
  },
  "orig_nbformat": 4,
  "vscode": {
   "interpreter": {
    "hash": "2cac66f9c3a3e478db6b53d819924530ad4b772b6b649f43a52775cb3a625d7c"
   }
  }
 },
 "nbformat": 4,
 "nbformat_minor": 2
}
