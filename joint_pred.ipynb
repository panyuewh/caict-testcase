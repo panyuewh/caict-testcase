{
 "cells": [
  {
   "cell_type": "code",
   "execution_count": null,
   "metadata": {},
   "outputs": [],
   "source": [
    "# 联合预测 \n",
    "#\n",
    "# 配置描述     |基础运算            |联合统计       |隐匿查询          |安全求交        |特征工程           |联合建模   |联合预测 \n",
    "# 数据方       |两方, 三方          |两方          |两方              |两方            |两方              |两方       |两方 \n",
    "# 算法类型     |加法, 乘法, 比较    |方差, 中位数   |高效率, 高隐匿性   |平衡, 非平衡    |WOE和IV计算        |LR        |LR\n",
    "# 测试数据集   |数据集α             |数据集α       |数据集β            |数据集γ        |epsilon           |epsilon    |epsilon\n",
    "\n",
    "import os\n",
    "path = './ds'\n",
    "assert os.path.exists(path)"
   ]
  },
  {
   "cell_type": "code",
   "execution_count": null,
   "metadata": {},
   "outputs": [],
   "source": [
    "%%time\n",
    "\n",
    "import pyarrow as pa \n",
    "import pyarrow.dataset as ds\n",
    "import pyarrow.compute as pc\n",
    "import pandas as pd\n",
    "import numpy as np\n",
    "\n",
    "ds1 = ds.dataset(f'{path}/ds_epsilon1_test')\n",
    "epsilon_y = ds1.to_table(columns={'0': ds.field('0')})['0'].to_pandas()\n",
    "epsilon_y = epsilon_y.replace(-1, 0)\n",
    "proj = {col:ds.field(col) for col in ds1.schema.names}\n",
    "proj.pop('0')\n",
    "epsilon1 = ds1.to_table(columns=proj)\n",
    "epsilon2 = ds.dataset(f'{path}/ds_epsilon2_test').to_table()\n",
    "epsilon_X = pd.DataFrame({col: data.to_pandas() for col, data \n",
    "        in zip(epsilon1.column_names+epsilon2.column_names, epsilon1.columns+epsilon2.columns)})"
   ]
  },
  {
   "cell_type": "code",
   "execution_count": null,
   "metadata": {},
   "outputs": [],
   "source": [
    "%%time\n",
    "\n",
    "import xgboost as xgb\n",
    "# Create DMatrix\n",
    "dtest = xgb.DMatrix(epsilon_X, epsilon_y)\n",
    "model = xgb.Booster({'nthread': 4})\n",
    "model.load_model(f\"{path}/epsilon_model.json\")"
   ]
  },
  {
   "cell_type": "code",
   "execution_count": null,
   "metadata": {},
   "outputs": [],
   "source": [
    "%%time\n",
    "\n",
    "# Predict results\n",
    "prediction = model.predict(dtest)\n",
    "\n",
    "# Print prediction results\n",
    "print(f'Prediction results:\\n{prediction}')"
   ]
  }
 ],
 "metadata": {
  "kernelspec": {
   "display_name": "Python 3.8.10 ('pyenv': venv)",
   "language": "python",
   "name": "python3"
  },
  "language_info": {
   "codemirror_mode": {
    "name": "ipython",
    "version": 3
   },
   "file_extension": ".py",
   "mimetype": "text/x-python",
   "name": "python",
   "nbconvert_exporter": "python",
   "pygments_lexer": "ipython3",
   "version": "3.8.10"
  },
  "orig_nbformat": 4,
  "vscode": {
   "interpreter": {
    "hash": "2cac66f9c3a3e478db6b53d819924530ad4b772b6b649f43a52775cb3a625d7c"
   }
  }
 },
 "nbformat": 4,
 "nbformat_minor": 2
}
