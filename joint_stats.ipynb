{
 "cells": [
  {
   "cell_type": "code",
   "execution_count": 2,
   "id": "1a756477",
   "metadata": {},
   "outputs": [],
   "source": [
    "# 联合统计\n",
    "#\n",
    "# 配置描述     |基础运算            |联合统计       |隐匿查询          |安全求交        |特征工程           |联合建模   |联合预测 \n",
    "# 数据方       |两方, 三方          |两方          |两方              |两方            |两方              |两方       |两方 \n",
    "# 算法类型     |加法, 乘法, 比较    |方差, 中位数   |高效率, 高隐匿性   |平衡, 非平衡    |WOE和IV计算        |LR        |LR\n",
    "# 测试数据集   |数据集α             |数据集α       |数据集β            |数据集γ        |epsilon           |epsilon    |epsilon\n",
    "\n",
    "import os\n",
    "path = './ds'\n",
    "assert os.path.exists(path)"
   ]
  },
  {
   "cell_type": "code",
   "execution_count": 40,
   "id": "e85bfc77",
   "metadata": {},
   "outputs": [
    {
     "name": "stdout",
     "output_type": "stream",
     "text": [
      "df1.shape: (10000000, 3);Index(['ID', 'X1', 'X2'], dtype='object')\n",
      "df2.shape: (10000000, 3);Index(['ID', 'X3', 'X4'], dtype='object')\n",
      "media=500.62236805057614, var=83165.27908464911\n",
      "CPU times: user 3.23 s, sys: 6.62 s, total: 9.85 s\n",
      "Wall time: 5.82 s\n"
     ]
    }
   ],
   "source": [
    "%%time\n",
    "\n",
    "import pandas as pd\n",
    "import pyarrow as pa \n",
    "import pyarrow.parquet as pq\n",
    "import numpy as np\n",
    "\n",
    "ds1=  pq.ParquetDataset(f'{path}/ds_alpha1/', use_legacy_dataset=False)\n",
    "df1 = ds1.read().to_pandas()\n",
    "ds2=  pq.ParquetDataset(f'{path}/ds_alpha2/', use_legacy_dataset=False)\n",
    "df2 = ds2.read().to_pandas()\n",
    "\n",
    "X = pd.concat([df1['X1'], df1['X2'], df2['X3'], df2['X4']])\n",
    "\n",
    "print(f\"df1.shape: {df1.shape};{df1.columns}\")\n",
    "print(f\"df2.shape: {df2.shape};{df2.columns}\")\n",
    "print(f\"media={X.median()}, var={X.var()}\")"
   ]
  },
  {
   "cell_type": "code",
   "execution_count": null,
   "id": "e8e809ef",
   "metadata": {},
   "outputs": [],
   "source": []
  }
 ],
 "metadata": {
  "kernelspec": {
   "display_name": "Python 3.8.10 ('pyenv': venv)",
   "language": "python",
   "name": "python3"
  },
  "language_info": {
   "codemirror_mode": {
    "name": "ipython",
    "version": 3
   },
   "file_extension": ".py",
   "mimetype": "text/x-python",
   "name": "python",
   "nbconvert_exporter": "python",
   "pygments_lexer": "ipython3",
   "version": "3.8.10"
  },
  "vscode": {
   "interpreter": {
    "hash": "2cac66f9c3a3e478db6b53d819924530ad4b772b6b649f43a52775cb3a625d7c"
   }
  }
 },
 "nbformat": 4,
 "nbformat_minor": 5
}
